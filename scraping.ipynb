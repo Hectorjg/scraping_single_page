{
 "cells": [
  {
   "cell_type": "code",
   "execution_count": 16,
   "id": "7c36eca9",
   "metadata": {},
   "outputs": [],
   "source": [
    "from bs4 import BeautifulSoup as bs\n",
    "import requests as rq\n",
    "import pandas as pd"
   ]
  },
  {
   "cell_type": "code",
   "execution_count": 17,
   "id": "69b5c368",
   "metadata": {},
   "outputs": [],
   "source": [
    "billboard = \"https://www.billboard.com/charts/hot-100/\""
   ]
  },
  {
   "cell_type": "code",
   "execution_count": 18,
   "id": "d84fb8f5",
   "metadata": {},
   "outputs": [
    {
     "data": {
      "text/plain": [
       "200"
      ]
     },
     "execution_count": 18,
     "metadata": {},
     "output_type": "execute_result"
    }
   ],
   "source": [
    "response = rq.get(billboard)\n",
    "response.status_code"
   ]
  },
  {
   "cell_type": "code",
   "execution_count": 20,
   "id": "fc9d9940",
   "metadata": {},
   "outputs": [],
   "source": [
    "hot_100 = bs(response.content, 'html.parser')"
   ]
  },
  {
   "cell_type": "code",
   "execution_count": 65,
   "id": "0e45a255",
   "metadata": {},
   "outputs": [],
   "source": [
    "song_name = hot_100.find_all('div', {'class':'o-chart-results-list-row-container'})"
   ]
  },
  {
   "cell_type": "code",
   "execution_count": 67,
   "id": "719d11ff",
   "metadata": {},
   "outputs": [
    {
     "data": {
      "text/plain": [
       "<div class=\"o-chart-results-list-row-container\">\n",
       "<ul class=\"o-chart-results-list-row // lrv-a-unstyle-list lrv-u-flex u-height-200 u-height-100@mobile-max u-height-100@tablet-only lrv-u-background-color-white a-chart-has-chart-detail\" data-ajax=\"\" data-detail-target=\"1\">\n",
       "<li class=\"o-chart-results-list__item // lrv-u-background-color-black lrv-u-color-white u-width-100 u-width-55@mobile-max u-width-55@tablet-only lrv-u-height-100p lrv-u-flex lrv-u-flex-direction-column lrv-u-flex-shrink-0 lrv-u-align-items-center lrv-u-justify-content-center lrv-u-border-b-1 u-border-b-0@mobile-max lrv-u-border-color-grey\">\n",
       "<span class=\"c-label a-font-primary-bold-l u-font-size-32@tablet u-letter-spacing-0080@tablet\">\n",
       "\t\n",
       "\t1\n",
       "</span>\n",
       "<div class=\"c-svg u-height-10@mobile-max u-width-10@mobile-max u-hidden@tablet\">\n",
       "<svg height=\"10.157\" width=\"10.157\" xmlns=\"http://www.w3.org/2000/svg\"><path d=\"M7.727 5.732H0V4.426h7.727L4.322.923 5.219 0l4.938 5.079-4.938 5.079-.9-.923z\" data-name=\"Arrow\" fill=\"#8289a1\"></path></svg></div>\n",
       "</li>\n",
       "<li class=\"o-chart-results-list__item // u-width-200 u-width-100@tablet-only u-width-67@mobile-max lrv-u-border-b-1 u-border-b-0@mobile-max lrv-u-border-color-grey u-flex-order-n1@mobile-max\">\n",
       "<div class=\"c-lazy-image lrv-u-width-200 u-width-67@mobile-max u-width-100@tablet-only\">\n",
       "<div class=\"lrv-a-crop-1x1 a-crop-67x100@mobile-max\" style=\"\">\n",
       "<img alt=\"\" class=\"c-lazy-image__img lrv-u-background-color-grey-lightest lrv-u-width-100p lrv-u-display-block lrv-u-height-auto\" data-lazy-sizes=\"\" data-lazy-src=\"https://charts-static.billboard.com/img/2023/08/oliveranthonymusic-zyi-richmennorthofrichmond-6u4-180x180.jpg\" data-lazy-srcset=\"\" decoding=\"async\" height=\"\" src=\"https://www.billboard.com/wp-content/themes/vip/pmc-billboard-2021/assets/public/lazyload-fallback.gif\" width=\"\"/>\n",
       "</div>\n",
       "</div>\n",
       "</li>\n",
       "<li class=\"o-chart-results-list__item // lrv-u-flex u-flex-grow-1@mobile-max lrv-u-flex-shrink-0 lrv-u-align-items-center lrv-u-justify-content-center u-width-60 lrv-u-border-b-1 u-border-b-0@mobile-max lrv-u-border-color-grey-light u-hidden@mobile-max\">\n",
       "<div class=\"c-svg u-height-26 u-width-26\">\n",
       "<svg style=\"width:100%;height:auto\" viewbox=\"0 0 26.191 26.191\" xmlns=\"http://www.w3.org/2000/svg\"><g data-name=\"Group 3\" transform=\"translate(-626 -1915)\"><circle cx=\"13.095\" cy=\"13.095\" data-name=\"Ellipse 494\" fill=\"#8289a1\" r=\"13.095\" transform=\"translate(626 1915)\"></circle><path d=\"M642.771 1928.989h-10.77v-1.82h10.77l-4.746-4.882 1.251-1.287 6.882 7.079-6.882 7.079-1.251-1.288z\" fill=\"#fff\"></path></g></svg></div>\n",
       "</li>\n",
       "<li class=\"lrv-u-width-100p\">\n",
       "<ul class=\"lrv-a-unstyle-list lrv-u-flex lrv-u-height-100p lrv-u-flex-direction-column@mobile-max\">\n",
       "<li class=\"o-chart-results-list__item // lrv-u-flex-grow-1 lrv-u-flex lrv-u-flex-direction-column lrv-u-justify-content-center lrv-u-border-b-1 u-border-b-0@mobile-max lrv-u-border-color-grey-light lrv-u-padding-l-1@mobile-max\">\n",
       "<h3 class=\"c-title a-no-trucate a-font-primary-bold-s u-letter-spacing-0021 u-font-size-23@tablet lrv-u-font-size-16 u-line-height-125 u-line-height-normal@mobile-max a-truncate-ellipsis u-max-width-245 u-max-width-230@tablet-only u-letter-spacing-0028@tablet\" id=\"title-of-a-story\">\n",
       "\n",
       "\t\n",
       "\t\n",
       "\t\t\n",
       "\t\t\t\t\tRich Men North Of Richmond\t\t\n",
       "\t\n",
       "</h3>\n",
       "<span class=\"c-label a-no-trucate a-font-primary-s lrv-u-font-size-14@mobile-max u-line-height-normal@mobile-max u-letter-spacing-0021 lrv-u-display-block a-truncate-ellipsis-2line u-max-width-330 u-max-width-230@tablet-only u-font-size-20@tablet\">\n",
       "\t\n",
       "\tOliver Anthony Music\n",
       "</span>\n",
       "</li>\n",
       "<li class=\"o-chart-results-list__item // u-width-66 u-width-30@mobile-max u-width-55@tablet-only lrv-u-flex lrv-u-flex-shrink-0 lrv-u-align-items-center lrv-u-justify-content-center lrv-u-border-b-1 u-border-b-0@mobile-max lrv-u-border-color-grey-light lrv-u-order-100@mobile-max u-hidden@mobile-max\">\n",
       "<div class=\"a-chart-plus-minus-icon\"></div>\n",
       "</li>\n",
       "<li class=\"o-chart-results-list__item // a-chart-bg-color a-chart-color u-width-72 u-width-55@mobile-max u-width-55@tablet-only lrv-u-flex lrv-u-flex-shrink-0 lrv-u-align-items-center lrv-u-justify-content-center lrv-u-background-color-grey-lightest lrv-u-border-b-1 u-border-b-0@mobile-max lrv-u-border-color-grey-light u-hidden@mobile-max\">\n",
       "<div class=\"c-svg u-height-17 u-width-18 u-height-13@mobile-max u-width-13@mobile-max lrv-u-margin-tb-050@mobile-max\">\n",
       "<svg style=\"width:100%;height:auto\" viewbox=\"0 0 18.072 17.316\" xmlns=\"http://www.w3.org/2000/svg\"><path d=\"M9.072 0L6.984 6.7H0l5.58 4.14-2.052 6.44 5.508-3.96 5.508 4-2.124-6.448L18.072 6.7h-6.84z\" data-name=\"Path 3055\" fill=\"currentColor\"></path></svg></div>\n",
       "</li>\n",
       "<li class=\"o-chart-results-list__item // a-chart-color u-width-72 u-width-55@mobile-max u-width-55@tablet-only lrv-u-flex lrv-u-flex-shrink-0 lrv-u-align-items-center lrv-u-justify-content-center lrv-u-border-b-1 u-border-b-0@mobile-max lrv-u-border-color-grey-light u-background-color-white-064@mobile-max u-hidden@mobile-max\">\n",
       "<span class=\"c-label a-font-primary-bold-l a-font-primary-m@mobile-max u-font-weight-normal@mobile-max lrv-u-padding-tb-050@mobile-max u-font-size-32@tablet\">\n",
       "\t\n",
       "\t1\n",
       "</span>\n",
       "</li>\n",
       "<li class=\"o-chart-results-list__item // a-chart-bg-color a-chart-color u-width-72 u-width-55@mobile-max u-width-55@tablet-only lrv-u-flex lrv-u-flex-shrink-0 lrv-u-align-items-center lrv-u-justify-content-center lrv-u-background-color-grey-lightest lrv-u-border-b-1 u-border-b-0@mobile-max lrv-u-border-color-grey-light u-hidden@mobile-max\">\n",
       "<span class=\"c-label a-font-primary-bold-l a-font-primary-m@mobile-max u-font-weight-normal@mobile-max lrv-u-padding-tb-050@mobile-max u-font-size-32@tablet\">\n",
       "\t\n",
       "\t1\n",
       "</span>\n",
       "</li>\n",
       "<li class=\"o-chart-results-list__item // a-chart-color u-width-72 u-width-55@mobile-max u-width-55@tablet-only lrv-u-flex lrv-u-flex-shrink-0 lrv-u-align-items-center lrv-u-justify-content-center lrv-u-border-b-1 u-border-b-0@mobile-max lrv-u-border-color-grey-light u-background-color-white-064@mobile-max u-hidden@mobile-max\">\n",
       "<span class=\"c-label a-font-primary-bold-l a-font-primary-m@mobile-max u-font-weight-normal@mobile-max lrv-u-padding-tb-050@mobile-max u-font-size-32@tablet\">\n",
       "\t\n",
       "\t2\n",
       "</span>\n",
       "</li>\n",
       "<li class=\"lrv-u-width-100p u-hidden@tablet\">\n",
       "<ul class=\"lrv-a-unstyle-list lrv-u-flex lrv-u-height-100p lrv-u-flex-direction-row u-background-color-grey-lightest@mobile-max\">\n",
       "<li class=\"o-chart-results-list__item // u-width-66 u-width-30@mobile-max u-width-55@tablet-only lrv-u-flex lrv-u-flex-shrink-0 lrv-u-align-items-center lrv-u-justify-content-center lrv-u-border-b-1 u-border-b-0@mobile-max lrv-u-border-color-grey-light lrv-u-order-100@mobile-max\">\n",
       "<div class=\"a-chart-plus-minus-icon\"></div>\n",
       "</li>\n",
       "<li class=\"o-chart-results-list__item // a-chart-bg-color a-chart-color u-width-72 u-width-55@mobile-max u-width-55@tablet-only lrv-u-flex lrv-u-flex-shrink-0 lrv-u-align-items-center lrv-u-justify-content-center lrv-u-background-color-grey-lightest lrv-u-border-b-1 u-border-b-0@mobile-max lrv-u-border-color-grey-light lrv-u-flex-grow-1\">\n",
       "<div class=\"c-svg u-height-17 u-width-18 u-height-13@mobile-max u-width-13@mobile-max lrv-u-margin-tb-050@mobile-max\">\n",
       "<svg style=\"width:100%;height:auto\" viewbox=\"0 0 18.072 17.316\" xmlns=\"http://www.w3.org/2000/svg\"><path d=\"M9.072 0L6.984 6.7H0l5.58 4.14-2.052 6.44 5.508-3.96 5.508 4-2.124-6.448L18.072 6.7h-6.84z\" data-name=\"Path 3055\" fill=\"currentColor\"></path></svg></div>\n",
       "</li>\n",
       "<li class=\"o-chart-results-list__item // a-chart-color u-width-72 u-width-55@mobile-max u-width-55@tablet-only lrv-u-flex lrv-u-flex-shrink-0 lrv-u-align-items-center lrv-u-justify-content-center lrv-u-border-b-1 u-border-b-0@mobile-max lrv-u-border-color-grey-light u-background-color-white-064@mobile-max lrv-u-flex-grow-1\">\n",
       "<span class=\"c-label a-font-primary-bold-l a-font-primary-m@mobile-max u-font-weight-normal@mobile-max lrv-u-padding-tb-050@mobile-max u-font-size-32@tablet\">\n",
       "\t\n",
       "\t1\n",
       "</span>\n",
       "</li>\n",
       "<li class=\"o-chart-results-list__item // a-chart-bg-color a-chart-color u-width-72 u-width-55@mobile-max u-width-55@tablet-only lrv-u-flex lrv-u-flex-shrink-0 lrv-u-align-items-center lrv-u-justify-content-center lrv-u-background-color-grey-lightest lrv-u-border-b-1 u-border-b-0@mobile-max lrv-u-border-color-grey-light lrv-u-flex-grow-1\">\n",
       "<span class=\"c-label a-font-primary-bold-l a-font-primary-m@mobile-max u-font-weight-normal@mobile-max lrv-u-padding-tb-050@mobile-max u-font-size-32@tablet\">\n",
       "\t\n",
       "\t1\n",
       "</span>\n",
       "</li>\n",
       "<li class=\"o-chart-results-list__item // a-chart-color u-width-72 u-width-55@mobile-max u-width-55@tablet-only lrv-u-flex lrv-u-flex-shrink-0 lrv-u-align-items-center lrv-u-justify-content-center lrv-u-border-b-1 u-border-b-0@mobile-max lrv-u-border-color-grey-light u-background-color-white-064@mobile-max lrv-u-flex-grow-1\">\n",
       "<span class=\"c-label a-font-primary-bold-l a-font-primary-m@mobile-max u-font-weight-normal@mobile-max lrv-u-padding-tb-050@mobile-max u-font-size-32@tablet\">\n",
       "\t\n",
       "\t2\n",
       "</span>\n",
       "</li>\n",
       "</ul>\n",
       "</li>\n",
       "</ul>\n",
       "</li>\n",
       "</ul>\n",
       "<div class=\"charts-result-detail // lrv-u-background-color-white lrv-u-position-relative u-z-index-middle-bottom lrv-a-hidden\" data-detail=\"1\">\n",
       "<div class=\"lrv-u-flex lrv-u-flex-direction-column@mobile-max lrv-u-padding-lr-150 lrv-u-padding-lr-00@mobile-max lrv-u-padding-tb-150 lrv-u-padding-tb-075@mobile-max\">\n",
       "<div class=\"lrv-u-flex-shrink-0 lrv-u-height-100p u-width-500@tablet\">\n",
       "<div class=\"a-chart-image lrv-u-flex lrv-u-align-items-center lrv-u-justify-content-center lrv-a-glue-parent\" style=\"background-image: url('https://charts-static.billboard.com/img/2023/08/oliveranthonymusic-zyi-richmennorthofrichmond-6u4-344x344.jpg');\">\n",
       "<div class=\"c-lazy-image u-width-200 u-width-270@tablet lrv-u-padding-tb-050\">\n",
       "<div class=\"lrv-a-crop-1x1\" style=\"\">\n",
       "<img alt=\"Lazy loaded image\" class=\"c-lazy-image__img lrv-u-background-color-grey-lightest lrv-u-width-100p lrv-u-display-block lrv-u-height-auto\" data-lazy-sizes=\"\" data-lazy-src=\"https://charts-static.billboard.com/img/2023/08/oliveranthonymusic-zyi-richmennorthofrichmond-6u4-344x344.jpg\" data-lazy-srcset=\"\" decoding=\"async\" height=\"\" src=\"https://www.billboard.com/wp-content/themes/vip/pmc-billboard-2021/assets/public/lazyload-fallback.gif\" width=\"\"/>\n",
       "</div>\n",
       "</div>\n",
       "</div>\n",
       "</div>\n",
       "<div class=\"lrv-u-flex-grow-1 lrv-u-height-100p lrv-u-padding-l-2 lrv-u-padding-r-050 lrv-u-padding-lr-00@mobile-max\">\n",
       "<div class=\"lrv-u-border-color-grey-light u-border-t-0@mobile-max lrv-u-padding-t-2 u-padding-b-00@tablet lrv-u-padding-t-150@mobile-max\" data-tabs=\"\">\n",
       "<div class=\"js-tabs-nav js-tabs-nav--charts-top lrv-u-flex lrv-u-justify-content-space-evenly lrv-u-padding-b-150 lrv-u-padding-b-1@mobile-max lrv-u-border-b-1 lrv-u-border-color-grey-light lrv-u-margin-b-050 lrv-u-margin-b-00@mobile-max\" data-tabs-nav=\"\">\n",
       "<button class=\"c-tab // lrv-u-display-inline-block lrv-a-unstyle-button lrv-a-hover-effect lrv-u-whitespace-nowrap a-font-primary-medium-xs lrv-u-text-transform-uppercase lrv-u-cursor-pointer js-subscription-authenticated u-letter-spacing-0037 u-font-size-13 lrv-u-padding-b-025 active\" data-tabs-target=\"tab_2\">\n",
       "\tCredits</button>\n",
       "<button class=\"c-tab // lrv-u-display-inline-block lrv-a-unstyle-button lrv-a-hover-effect lrv-u-whitespace-nowrap a-font-primary-medium-xs lrv-u-text-transform-uppercase lrv-u-cursor-pointer u-letter-spacing-0037 u-font-size-13 lrv-u-padding-b-025\" data-tabs-target=\"tab_3\">\n",
       "\tAwards</button>\n",
       "<button class=\"c-tab // lrv-u-display-inline-block lrv-a-unstyle-button lrv-a-hover-effect lrv-u-whitespace-nowrap a-font-primary-medium-xs lrv-u-text-transform-uppercase lrv-u-cursor-pointer u-letter-spacing-0037 u-font-size-13 lrv-u-padding-b-025\" data-tabs-target=\"tab_5\">\n",
       "\tShare</button>\n",
       "</div>\n",
       "<div class=\"js-subscription-authenticated\" data-tabs-trigger=\"tab_2\">\n",
       "<div class=\"o-chart-credits // lrv-u-margin-t-2 lrv-u-margin-t-125@mobile-max\">\n",
       "<h3 class=\"c-title a-font-primary-medium-s u-letter-spacing-0021\" id=\"title-of-a-story\">\n",
       "\n",
       "\t\n",
       "\t\n",
       "\t\t\n",
       "\t\t\t\t\tSongwriter(s):\t\t\n",
       "\t\n",
       "</h3>\n",
       "<p class=\"c-tagline a-font-primary-s u-letter-spacing-0021 lrv-u-margin-t-00\">C.A.Lunsford</p>\n",
       "<h3 class=\"c-title a-font-primary-medium-s u-letter-spacing-0021\" id=\"title-of-a-story\">\n",
       "\n",
       "\t\n",
       "\t\n",
       "\t\t\n",
       "\t\t\t\t\tProducer(s):\t\t\n",
       "\t\n",
       "</h3>\n",
       "<p class=\"c-tagline a-font-primary-s u-letter-spacing-0021 lrv-u-margin-t-00\">D.Riffe</p>\n",
       "<h3 class=\"c-title a-font-primary-medium-s u-letter-spacing-0021\" id=\"title-of-a-story\">\n",
       "\n",
       "\t\n",
       "\t\n",
       "\t\t\n",
       "\t\t\t\t\tImprint/Promotion Label:\t\t\n",
       "\t\n",
       "</h3>\n",
       "<p class=\"c-tagline a-font-primary-s u-letter-spacing-0021 lrv-u-margin-t-00\">Oliver Anthony Music</p>\n",
       "</div>\n",
       "</div>\n",
       "<div class=\"lrv-u-display-none\" data-tabs-trigger=\"tab_3\">\n",
       "<div class=\"o-chart-awards // lrv-u-padding-t-2 lrv-u-padding-t-125@mobile-max lrv-u-padding-b-050 js-Flickity js-Flickity--chart-awards js-Flickity--isContained js-Flickity--isFreeScroll lrv-u-padding-lr-075@mobile-max\">\n",
       "<div class=\"lrv-u-flex lrv-u-flex-direction-column lrv-u-align-items-center lrv-u-justify-content-center u-flex-basis-33p lrv-u-padding-tb-1 lrv-u-flex-shrink-0 js-Flickity-cell u-width-118 lrv-u-height-100p u-min-height-135\">\n",
       "<div class=\"c-svg lrv-u-padding-b-050 u-height-45 u-width-28\">\n",
       "<svg style=\"width:100%;height:auto\" viewbox=\"0 0 128 171.211\" xmlns=\"http://www.w3.org/2000/svg\"><g data-name=\"Group 12\"><path d=\"M0 87.211v-24l64-32 64 32v24l-64-32z\" data-name=\"Path 3036\" fill=\"#fcee21\"></path><path d=\"M0 127.211v-24l64-32 64 32v24l-64-32z\" data-name=\"Path 3037\" fill=\"#fcee21\"></path><path d=\"M0 167.211v-24l64-32 64 32v24l-64-32z\" data-name=\"Path 3038\" fill=\"#fcee21\"></path><path d=\"M24.526 59.211H44v112h40v-112h19.474L64 0zm51.474-8v112H52v-112H39.474L64 14.422l24.526 36.789z\" data-name=\"Path 3039\" fill=\"#1a48c4\"></path></g></svg></div>\n",
       "<p class=\"c-tagline a-font-primary-medium-xxs u-line-height-125 lrv-u-color-brand-primary lrv-u-padding-lr-075 lrv-u-margin-tb-00 lrv-u-text-align-center\">Gains In Performance</p>\n",
       "</div>\n",
       "</div>\n",
       "</div>\n",
       "<div class=\"lrv-u-display-none\" data-tabs-trigger=\"tab_5\">\n",
       "<div class=\"o-chart-share // lrv-u-flex lrv-u-flex-wrap-wrap lrv-u-justify-content-center lrv-u-padding-t-2 lrv-u-padding-t-150@mobile-max lrv-u-padding-b-050 lrv-u-padding-b-00@mobile-max lrv-u-width-100p\">\n",
       "<a class=\"lrv-a-unstyle-button lrv-a-unstyle-link lrv-u-cursor-pointer lrv-u-flex lrv-u-align-items-center lrv-u-border-a-1 lrv-u-border-color-grey-light lrv-u-margin-a-075 lrv-u-padding-tb-050 u-border-radius-a-7 lrv-u-color-brand-primary lrv-u-color-white:hover lrv-u-background-color-brand-primary:hover u-width-150 lrv-u-justify-content-center js-chart-share\" href=\"https://twitter.com/intent/tweet?url=https%3A%2F%2Fwww.billboard.com%2Fcharts%2Fhot-100%2F%3Frank%3D1&amp;text=Check+out+%22Rich+Men+North+Of+Richmond%22+by+Oliver+Anthony+Music+on+this+week%27s+Billboard+Hot+100%21&amp;via=billboard\">\n",
       "<span class=\"lrv-a-screen-reader-only\" title=\"\">Share Chart on Twitter</span>\n",
       "<svg aria-hidden=\"true\" class=\"c-icon lrv-u-display-block lrv-u-width-16 lrv-u-height-16\">\n",
       "<use xlink:href=\"#twitter\"></use>\n",
       "</svg>\n",
       "<span class=\"c-span lrv-u-margin-l-050 a-font-primary-medium-xxs\">\n",
       "\n",
       "\tTwitter\n",
       "</span>\n",
       "</a>\n",
       "<a class=\"lrv-a-unstyle-button lrv-a-unstyle-link lrv-u-cursor-pointer lrv-u-flex lrv-u-align-items-center lrv-u-border-a-1 lrv-u-border-color-grey-light lrv-u-margin-a-075 lrv-u-padding-tb-050 u-border-radius-a-7 lrv-u-color-brand-primary lrv-u-color-white:hover lrv-u-background-color-brand-primary:hover u-width-150 lrv-u-justify-content-center js-chart-copy-to-clipboard\" data-value=\"https://www.billboard.com/charts/hot-100/?rank=1\" href=\"#\">\n",
       "<span class=\"lrv-a-screen-reader-only\" title=\"\">Share Chart on Copy Link</span>\n",
       "<svg aria-hidden=\"true\" class=\"c-icon lrv-u-display-block lrv-u-width-16 lrv-u-height-16\">\n",
       "<use xlink:href=\"#copy\"></use>\n",
       "</svg>\n",
       "<span class=\"c-span lrv-u-margin-l-050 a-font-primary-medium-xxs\">\n",
       "\n",
       "\tCopy Link\n",
       "</span>\n",
       "</a>\n",
       "<a class=\"lrv-a-unstyle-button lrv-a-unstyle-link lrv-u-cursor-pointer lrv-u-flex lrv-u-align-items-center lrv-u-border-a-1 lrv-u-border-color-grey-light lrv-u-margin-a-075 lrv-u-padding-tb-050 u-border-radius-a-7 lrv-u-color-brand-primary lrv-u-color-white:hover lrv-u-background-color-brand-primary:hover u-width-150 lrv-u-justify-content-center js-chart-share\" href=\"https://www.facebook.com/sharer/sharer.php?u=https%3A%2F%2Fwww.billboard.com%2Fcharts%2Fhot-100%2F%3Frank%3D1&amp;quote=Check+out+%22Rich+Men+North+Of+Richmond%22+by+Oliver+Anthony+Music+on+this+week%27s+Billboard+Hot+100%21\">\n",
       "<span class=\"lrv-a-screen-reader-only\" title=\"\">Share Chart on Facebook</span>\n",
       "<svg aria-hidden=\"true\" class=\"c-icon lrv-u-display-block lrv-u-width-16 lrv-u-height-16\">\n",
       "<use xlink:href=\"#facebook\"></use>\n",
       "</svg>\n",
       "<span class=\"c-span lrv-u-margin-l-050 a-font-primary-medium-xxs\">\n",
       "\n",
       "\tFacebook\n",
       "</span>\n",
       "</a>\n",
       "<a class=\"lrv-a-unstyle-button lrv-a-unstyle-link lrv-u-cursor-pointer lrv-u-flex lrv-u-align-items-center lrv-u-border-a-1 lrv-u-border-color-grey-light lrv-u-margin-a-075 lrv-u-padding-tb-050 u-border-radius-a-7 lrv-u-color-brand-primary lrv-u-color-white:hover lrv-u-background-color-brand-primary:hover u-width-150 lrv-u-justify-content-center js-chart-copy-to-clipboard\" data-value='&lt;iframe src=\"https://widget.billboard.com/hot-100/2023/09/02/0\" style=\"border:none;\" name=\"Billboard Charts\" scrolling=\"no\" frameborder=\"0\" marginheight=\"0px\" marginwidth=\"0px\" height=\"540px\" width=\"620px\" allowfullscreen&gt;&lt;/iframe&gt;' href=\"#\">\n",
       "<span class=\"lrv-a-screen-reader-only\" title=\"\">Share Chart on Embed</span>\n",
       "<svg aria-hidden=\"true\" class=\"c-icon lrv-u-display-block lrv-u-width-16 lrv-u-height-16\">\n",
       "<use xlink:href=\"#embed\"></use>\n",
       "</svg>\n",
       "<span class=\"c-span lrv-u-margin-l-050 a-font-primary-medium-xxs\">\n",
       "\n",
       "\tEmbed\n",
       "</span>\n",
       "</a>\n",
       "</div>\n",
       "</div>\n",
       "</div>\n",
       "</div>\n",
       "</div>\n",
       "</div>\n",
       "</div>"
      ]
     },
     "execution_count": 67,
     "metadata": {},
     "output_type": "execute_result"
    }
   ],
   "source": [
    "song_name[0]"
   ]
  },
  {
   "cell_type": "code",
   "execution_count": 95,
   "id": "a315db22",
   "metadata": {},
   "outputs": [
    {
     "data": {
      "text/plain": [
       "'Rich Men North Of Richmond'"
      ]
     },
     "execution_count": 95,
     "metadata": {},
     "output_type": "execute_result"
    }
   ],
   "source": [
    "song_name[0].find_all('h3')[0].text.strip()"
   ]
  },
  {
   "cell_type": "code",
   "execution_count": 172,
   "id": "26d2aa9d",
   "metadata": {},
   "outputs": [
    {
     "data": {
      "text/plain": [
       "'Oliver Anthony Music'"
      ]
     },
     "execution_count": 172,
     "metadata": {},
     "output_type": "execute_result"
    }
   ],
   "source": [
    "song_name[0].find_all('span')[1].text.strip()"
   ]
  },
  {
   "cell_type": "code",
   "execution_count": 173,
   "id": "e745b92c",
   "metadata": {},
   "outputs": [
    {
     "data": {
      "text/plain": [
       "'1'"
      ]
     },
     "execution_count": 173,
     "metadata": {},
     "output_type": "execute_result"
    }
   ],
   "source": [
    "song_name[0].find_all('span')[0].text.strip()"
   ]
  },
  {
   "cell_type": "code",
   "execution_count": 197,
   "id": "dcaf15c8",
   "metadata": {},
   "outputs": [],
   "source": [
    "song_names=[]\n",
    "artist = []\n",
    "last_week = []\n",
    "peak_position = []\n",
    "wks_on_chart = []\n",
    "for i in range(0,100):\n",
    "    if song_name[i].find_all('span')[1].text.strip() != 'NEW' and song_name[i].find_all('span')[1].text.strip() != 'RE-\\nENTRY':\n",
    "        \n",
    "        song_names.append(song_name[i].find_all('h3')[0].text.strip())\n",
    "        artist.append(song_name[i].find_all('span')[1].text.strip())\n",
    "        last_week.append(song_name[i].find_all('span')[2].text.strip())\n",
    "        peak_position.append(song_name[i].find_all('span')[3].text.strip())\n",
    "        wks_on_chart.append(song_name[i].find_all('span')[4].text.strip())\n",
    "        \n",
    "   \n",
    "    else:\n",
    "        song_names.append(song_name[i].find_all('h3')[0].text.strip())\n",
    "        artist.append(song_name[i].find_all('span')[3].text.strip())\n",
    "        last_week.append(song_name[i].find_all('span')[2].text.strip())\n",
    "        peak_position.append(song_name[i].find_all('span')[3].text.strip())\n",
    "        wks_on_chart.append(song_name[i].find_all('span')[4].text.strip())"
   ]
  },
  {
   "cell_type": "code",
   "execution_count": 198,
   "id": "77ad673f",
   "metadata": {},
   "outputs": [],
   "source": [
    "artist = pd.DataFrame(artist)"
   ]
  },
  {
   "cell_type": "code",
   "execution_count": 199,
   "id": "2b71ce78",
   "metadata": {},
   "outputs": [],
   "source": [
    "songs = pd.DataFrame(song_names)"
   ]
  },
  {
   "cell_type": "code",
   "execution_count": 200,
   "id": "b4303d14",
   "metadata": {},
   "outputs": [
    {
     "data": {
      "text/html": [
       "<div>\n",
       "<style scoped>\n",
       "    .dataframe tbody tr th:only-of-type {\n",
       "        vertical-align: middle;\n",
       "    }\n",
       "\n",
       "    .dataframe tbody tr th {\n",
       "        vertical-align: top;\n",
       "    }\n",
       "\n",
       "    .dataframe thead th {\n",
       "        text-align: right;\n",
       "    }\n",
       "</style>\n",
       "<table border=\"1\" class=\"dataframe\">\n",
       "  <thead>\n",
       "    <tr style=\"text-align: right;\">\n",
       "      <th></th>\n",
       "      <th>artist</th>\n",
       "      <th>song</th>\n",
       "    </tr>\n",
       "  </thead>\n",
       "  <tbody>\n",
       "    <tr>\n",
       "      <th>0</th>\n",
       "      <td>Oliver Anthony Music</td>\n",
       "      <td>Rich Men North Of Richmond</td>\n",
       "    </tr>\n",
       "    <tr>\n",
       "      <th>1</th>\n",
       "      <td>Luke Combs</td>\n",
       "      <td>Fast Car</td>\n",
       "    </tr>\n",
       "    <tr>\n",
       "      <th>2</th>\n",
       "      <td>Morgan Wallen</td>\n",
       "      <td>Last Night</td>\n",
       "    </tr>\n",
       "    <tr>\n",
       "      <th>3</th>\n",
       "      <td>Taylor Swift</td>\n",
       "      <td>Cruel Summer</td>\n",
       "    </tr>\n",
       "    <tr>\n",
       "      <th>4</th>\n",
       "      <td>Doja Cat</td>\n",
       "      <td>Paint The Town Red</td>\n",
       "    </tr>\n",
       "    <tr>\n",
       "      <th>...</th>\n",
       "      <td>...</td>\n",
       "      <td>...</td>\n",
       "    </tr>\n",
       "    <tr>\n",
       "      <th>95</th>\n",
       "      <td>Travis Scott Featuring Rob49 &amp; 21 Savage</td>\n",
       "      <td>Topia Twins</td>\n",
       "    </tr>\n",
       "    <tr>\n",
       "      <th>96</th>\n",
       "      <td>Grupo Frontera &amp; Grupo Firme</td>\n",
       "      <td>El Amor de Su Vida</td>\n",
       "    </tr>\n",
       "    <tr>\n",
       "      <th>97</th>\n",
       "      <td>Rod Wave</td>\n",
       "      <td>Fight The Feeling</td>\n",
       "    </tr>\n",
       "    <tr>\n",
       "      <th>98</th>\n",
       "      <td>Zach Bryan</td>\n",
       "      <td>Burn, Burn, Burn</td>\n",
       "    </tr>\n",
       "    <tr>\n",
       "      <th>99</th>\n",
       "      <td>Parmalee</td>\n",
       "      <td>Girl In Mine</td>\n",
       "    </tr>\n",
       "  </tbody>\n",
       "</table>\n",
       "<p>100 rows × 2 columns</p>\n",
       "</div>"
      ],
      "text/plain": [
       "                                      artist                        song\n",
       "0                       Oliver Anthony Music  Rich Men North Of Richmond\n",
       "1                                 Luke Combs                    Fast Car\n",
       "2                              Morgan Wallen                  Last Night\n",
       "3                               Taylor Swift                Cruel Summer\n",
       "4                                   Doja Cat          Paint The Town Red\n",
       "..                                       ...                         ...\n",
       "95  Travis Scott Featuring Rob49 & 21 Savage                 Topia Twins\n",
       "96              Grupo Frontera & Grupo Firme          El Amor de Su Vida\n",
       "97                                  Rod Wave           Fight The Feeling\n",
       "98                                Zach Bryan            Burn, Burn, Burn\n",
       "99                                  Parmalee                Girl In Mine\n",
       "\n",
       "[100 rows x 2 columns]"
      ]
     },
     "execution_count": 200,
     "metadata": {},
     "output_type": "execute_result"
    }
   ],
   "source": [
    "data = pd.concat([artist, songs], axis =1)\n",
    "data.columns = ['artist', 'song']\n",
    "data"
   ]
  }
 ],
 "metadata": {
  "kernelspec": {
   "display_name": "Python 3 (ipykernel)",
   "language": "python",
   "name": "python3"
  },
  "language_info": {
   "codemirror_mode": {
    "name": "ipython",
    "version": 3
   },
   "file_extension": ".py",
   "mimetype": "text/x-python",
   "name": "python",
   "nbconvert_exporter": "python",
   "pygments_lexer": "ipython3",
   "version": "3.10.11"
  }
 },
 "nbformat": 4,
 "nbformat_minor": 5
}
